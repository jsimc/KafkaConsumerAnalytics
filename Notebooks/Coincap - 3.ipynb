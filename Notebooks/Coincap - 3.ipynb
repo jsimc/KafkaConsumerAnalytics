{
 "cells": [
  {
   "cell_type": "markdown",
   "metadata": {
    "application/vnd.databricks.v1+cell": {
     "cellMetadata": {
      "byteLimit": 2048000,
      "rowLimit": 10000
     },
     "inputWidgets": {},
     "nuid": "e89cb7da-115d-455c-a492-be31c0de64d0",
     "showTitle": false,
     "title": ""
    }
   },
   "source": [
    "# Uporedjivanje bitkoina sa etheriumom\n",
    "# Da li su iste/slicne distributivnosti vrednosti cena\n",
    "# Da li su korelisani cene etheriuma sa bitkoinom?\n",
    "### Pretpostavka je da JESU jer"
   ]
  },
  {
   "cell_type": "code",
   "execution_count": 0,
   "metadata": {
    "application/vnd.databricks.v1+cell": {
     "cellMetadata": {
      "byteLimit": 2048000,
      "rowLimit": 10000
     },
     "inputWidgets": {},
     "nuid": "95d94a8e-8c1b-4f9e-bfeb-434926ff1b29",
     "showTitle": false,
     "title": ""
    }
   },
   "outputs": [
    {
     "output_type": "display_data",
     "data": {
      "text/html": [
       "<style scoped>\n",
       "  .table-result-container {\n",
       "    max-height: 300px;\n",
       "    overflow: auto;\n",
       "  }\n",
       "  table, th, td {\n",
       "    border: 1px solid black;\n",
       "    border-collapse: collapse;\n",
       "  }\n",
       "  th, td {\n",
       "    padding: 5px;\n",
       "  }\n",
       "  th {\n",
       "    text-align: left;\n",
       "  }\n",
       "</style><div class='table-result-container'><table class='table-result'><thead style='background-color: white'><tr><th>priceUsd</th><th>time</th><th>date</th></tr></thead><tbody><tr><td>1558.7557907096186851</td><td>1674604800000</td><td>2023-01-25T00:00:00.000Z</td></tr><tr><td>1586.5378439115126418</td><td>1674777600000</td><td>2023-01-27T00:00:00.000Z</td></tr><tr><td>1586.8916045456866777</td><td>1674864000000</td><td>2023-01-28T00:00:00.000Z</td></tr><tr><td>1650.7829688100817108</td><td>1675382400000</td><td>2023-02-03T00:00:00.000Z</td></tr><tr><td>1538.1842500199916307</td><td>1675987200000</td><td>2023-02-10T00:00:00.000Z</td></tr></tbody></table></div>"
      ]
     },
     "metadata": {
      "application/vnd.databricks.v1+output": {
       "addedWidgets": {},
       "aggData": [],
       "aggError": "",
       "aggOverflow": false,
       "aggSchema": [],
       "aggSeriesLimitReached": false,
       "aggType": "",
       "arguments": {},
       "columnCustomDisplayInfos": {},
       "data": [
        [
         "1558.7557907096186851",
         1674604800000,
         "2023-01-25T00:00:00.000Z"
        ],
        [
         "1586.5378439115126418",
         1674777600000,
         "2023-01-27T00:00:00.000Z"
        ],
        [
         "1586.8916045456866777",
         1674864000000,
         "2023-01-28T00:00:00.000Z"
        ],
        [
         "1650.7829688100817108",
         1675382400000,
         "2023-02-03T00:00:00.000Z"
        ],
        [
         "1538.1842500199916307",
         1675987200000,
         "2023-02-10T00:00:00.000Z"
        ]
       ],
       "datasetInfos": [],
       "dbfsResultPath": null,
       "isJsonSchema": true,
       "metadata": {},
       "overflow": false,
       "plotOptions": {
        "customPlotOptions": {},
        "displayType": "table",
        "pivotAggregation": null,
        "pivotColumns": null,
        "xColumns": null,
        "yColumns": null
       },
       "removedWidgets": [],
       "schema": [
        {
         "metadata": "{}",
         "name": "priceUsd",
         "type": "\"string\""
        },
        {
         "metadata": "{}",
         "name": "time",
         "type": "\"long\""
        },
        {
         "metadata": "{}",
         "name": "date",
         "type": "\"string\""
        }
       ],
       "type": "table"
      }
     },
     "output_type": "display_data"
    },
    {
     "output_type": "display_data",
     "data": {
      "text/html": [
       "<style scoped>\n",
       "  .table-result-container {\n",
       "    max-height: 300px;\n",
       "    overflow: auto;\n",
       "  }\n",
       "  table, th, td {\n",
       "    border: 1px solid black;\n",
       "    border-collapse: collapse;\n",
       "  }\n",
       "  th, td {\n",
       "    padding: 5px;\n",
       "  }\n",
       "  th {\n",
       "    text-align: left;\n",
       "  }\n",
       "</style><div class='table-result-container'><table class='table-result'><thead style='background-color: white'><tr><th>priceUsd</th><th>time</th><th>date</th></tr></thead><tbody><tr><td>22985.8084693994132959</td><td>1674518400000</td><td>2023-01-24T00:00:00.000Z</td></tr><tr><td>23088.5098671765254327</td><td>1674691200000</td><td>2023-01-26T00:00:00.000Z</td></tr><tr><td>23017.3320728634933905</td><td>1674777600000</td><td>2023-01-27T00:00:00.000Z</td></tr><tr><td>23828.2216365205844973</td><td>1675296000000</td><td>2023-02-02T00:00:00.000Z</td></tr><tr><td>22551.4951913173097458</td><td>1675900800000</td><td>2023-02-09T00:00:00.000Z</td></tr></tbody></table></div>"
      ]
     },
     "metadata": {
      "application/vnd.databricks.v1+output": {
       "addedWidgets": {},
       "aggData": [],
       "aggError": "",
       "aggOverflow": false,
       "aggSchema": [],
       "aggSeriesLimitReached": false,
       "aggType": "",
       "arguments": {},
       "columnCustomDisplayInfos": {},
       "data": [
        [
         "22985.8084693994132959",
         1674518400000,
         "2023-01-24T00:00:00.000Z"
        ],
        [
         "23088.5098671765254327",
         1674691200000,
         "2023-01-26T00:00:00.000Z"
        ],
        [
         "23017.3320728634933905",
         1674777600000,
         "2023-01-27T00:00:00.000Z"
        ],
        [
         "23828.2216365205844973",
         1675296000000,
         "2023-02-02T00:00:00.000Z"
        ],
        [
         "22551.4951913173097458",
         1675900800000,
         "2023-02-09T00:00:00.000Z"
        ]
       ],
       "datasetInfos": [],
       "dbfsResultPath": null,
       "isJsonSchema": true,
       "metadata": {},
       "overflow": false,
       "plotOptions": {
        "customPlotOptions": {},
        "displayType": "table",
        "pivotAggregation": null,
        "pivotColumns": null,
        "xColumns": null,
        "yColumns": null
       },
       "removedWidgets": [],
       "schema": [
        {
         "metadata": "{}",
         "name": "priceUsd",
         "type": "\"string\""
        },
        {
         "metadata": "{}",
         "name": "time",
         "type": "\"long\""
        },
        {
         "metadata": "{}",
         "name": "date",
         "type": "\"string\""
        }
       ],
       "type": "table"
      }
     },
     "output_type": "display_data"
    }
   ],
   "source": [
    "from pyspark.sql.types import *\n",
    "from pyspark.sql.functions import *\n",
    "import pandas as pd\n",
    "import numpy as np\n",
    "import math\n",
    "import matplotlib.pyplot as plt\n",
    "import seaborn as sns\n",
    "import statsmodels.api as sm\n",
    "from scipy.stats import lognorm, norm\n",
    "import scipy\n",
    "from sklearn.linear_model import LinearRegression\n",
    "import datetime as dt\n",
    "from sklearn import preprocessing\n",
    "from sklearn.model_selection import train_test_split\n",
    "from scipy.stats import ks_2samp\n",
    "\n",
    "coincapEthPath = \"/FileStore/real-data/coincap_ethereum.csv\"\n",
    "coincapBitcoinPath = \"/FileStore/real-data/coincap2.csv\"\n",
    "\n",
    "jsonSchema = StructType([\n",
    "    StructField(\"priceUsd\", StringType(), True),\n",
    "    StructField(\"time\", LongType(), True),\n",
    "    StructField(\"date\", StringType(), True)\n",
    "])\n",
    "ethereum_coincap_df_pd = spark.read.schema(jsonSchema).json(coincapEthPath).toPandas()\n",
    "ethereum_coincap_df_pd = ethereum_coincap_df_pd.drop_duplicates()\n",
    "display(ethereum_coincap_df_pd.head())\n",
    "\n",
    "bitcoin_coincap_df_pd = spark.read.schema(jsonSchema).json(coincapBitcoinPath).toPandas()\n",
    "bitcoin_coincap_df_pd = bitcoin_coincap_df_pd.drop_duplicates()\n",
    "display(bitcoin_coincap_df_pd.head())"
   ]
  },
  {
   "cell_type": "code",
   "execution_count": 0,
   "metadata": {
    "application/vnd.databricks.v1+cell": {
     "cellMetadata": {
      "byteLimit": 2048000,
      "rowLimit": 10000
     },
     "inputWidgets": {},
     "nuid": "96d959e7-fe5a-415a-966e-b8c768780902",
     "showTitle": false,
     "title": ""
    }
   },
   "outputs": [],
   "source": [
    "bitcoin_coincap_df_pd['priceUsd'] = bitcoin_coincap_df_pd['priceUsd'].astype(float)\n",
    "ethereum_coincap_df_pd['priceUsd'] = ethereum_coincap_df_pd['priceUsd'].astype(float)"
   ]
  },
  {
   "cell_type": "code",
   "execution_count": 0,
   "metadata": {
    "application/vnd.databricks.v1+cell": {
     "cellMetadata": {
      "byteLimit": 2048000,
      "rowLimit": 10000
     },
     "inputWidgets": {},
     "nuid": "988f7cd6-de45-4dd9-aded-da3aa4fbbe5b",
     "showTitle": false,
     "title": ""
    }
   },
   "outputs": [
    {
     "output_type": "display_data",
     "data": {
      "image/png": "[encoded data removed]"
     },
     "metadata": {
      "application/vnd.databricks.v1+output": {
       "addedWidgets": {},
       "arguments": {},
       "data": "data:image/png;base64,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\n",
       "datasetInfos": [],
       "metadata": {},
       "removedWidgets": [],
       "type": "image"
      }
     },
     "output_type": "display_data"
    }
   ],
   "source": [
    "# sm.qqplot_2samples(bitcoin_prices, ethereum_prices, xlabel='bitcoin', ylabel='ethereum', line='r')\n",
    "\n",
    "bitcoin_prices = bitcoin_coincap_df_pd['priceUsd'] #.sort_values()\n",
    "ethereum_prices = ethereum_coincap_df_pd['priceUsd'] #.sort_values()\n",
    "# ethereum_prices = ethereum_prices.sort_values()\n",
    "\n",
    "plt.scatter(bitcoin_prices, ethereum_prices)\n",
    "bitcoin_prices.min()\n",
    "type(bitcoin_prices)\n",
    "plt.plot([bitcoin_prices.min(), bitcoin_prices.max()],[ethereum_prices.min(), ethereum_prices.max()],color=\"red\")\n",
    "plt.xlabel(\"bitcoin\")\n",
    "plt.ylabel(\"ethereum\")\n",
    "plt.show()"
   ]
  },
  {
   "cell_type": "markdown",
   "metadata": {
    "application/vnd.databricks.v1+cell": {
     "cellMetadata": {
      "byteLimit": 2048000,
      "rowLimit": 10000
     },
     "inputWidgets": {},
     "nuid": "13304a75-09bb-4bdf-a772-c0c68c414850",
     "showTitle": false,
     "title": ""
    }
   },
   "source": [
    "Mozemo videti, pomocu plota, da dok je Bitcoin imao \"manju\" vrednost da je donekle ethereum pratio njegov rast,\n",
    "ali kako je bitcoin-u vrednost rasla tako je ethereumu stagnirala i opadala u nekom trenutku\n",
    "Moja hipoteza je da ce donekle imati korelaciju, ajde da vidimo pomocu KS testa."
   ]
  },
  {
   "cell_type": "code",
   "execution_count": 0,
   "metadata": {
    "application/vnd.databricks.v1+cell": {
     "cellMetadata": {
      "byteLimit": 2048000,
      "rowLimit": 10000
     },
     "inputWidgets": {},
     "nuid": "a75ac55d-9920-419e-91db-5aab9a4173ce",
     "showTitle": false,
     "title": ""
    }
   },
   "outputs": [
    {
     "output_type": "stream",
     "name": "stdout",
     "output_type": "stream",
     "text": [
      "KS Statistic: 1.0\nP-value: 4.791460585515606e-218\nThe two datasets may come from different distributions.\n"
     ]
    }
   ],
   "source": [
    "\n",
    "# Perform the KS test\n",
    "ks_statistic, p_value = ks_2samp(bitcoin_prices, ethereum_prices)\n",
    "\n",
    "# Display the results\n",
    "print(\"KS Statistic:\", ks_statistic)\n",
    "print(\"P-value:\", p_value)\n",
    "\n",
    "# Interpret the results\n",
    "if p_value < 0.05:\n",
    "    print(\"The two datasets may come from different distributions.\")\n",
    "else:\n",
    "    print(\"There is no significant evidence to suggest that the datasets come from different distributions.\")"
   ]
  },
  {
   "cell_type": "markdown",
   "metadata": {
    "application/vnd.databricks.v1+cell": {
     "cellMetadata": {
      "byteLimit": 2048000,
      "rowLimit": 10000
     },
     "inputWidgets": {},
     "nuid": "cbad0605-ce91-4923-9276-ccea2c9f9d10",
     "showTitle": false,
     "title": ""
    }
   },
   "source": [
    "# p_value nam je dosta mala, tj manja od alpha = 0.05 --> Znaci Ethereum i Bitcoin nemaju istu distributivnost sto je donekle \n",
    "# ocekivano?"
   ]
  },
  {
   "cell_type": "code",
   "execution_count": 0,
   "metadata": {
    "application/vnd.databricks.v1+cell": {
     "cellMetadata": {
      "byteLimit": 2048000,
      "rowLimit": 10000
     },
     "inputWidgets": {},
     "nuid": "e1b78558-83d6-48ad-bf33-86f8b18b1e82",
     "showTitle": false,
     "title": ""
    }
   },
   "outputs": [
    {
     "output_type": "stream",
     "name": "stdout",
     "output_type": "stream",
     "text": [
      "Pearsons correlation: 0.916\n"
     ]
    }
   ],
   "source": [
    "from scipy.stats import pearsonr\n",
    "# calculate Pearson's correlation\n",
    "corr, _ = pearsonr(bitcoin_prices, ethereum_prices)\n",
    "print('Pearsons correlation: %.3f' % corr)"
   ]
  },
  {
   "cell_type": "code",
   "execution_count": 0,
   "metadata": {
    "application/vnd.databricks.v1+cell": {
     "cellMetadata": {
      "byteLimit": 2048000,
      "rowLimit": 10000
     },
     "inputWidgets": {},
     "nuid": "e4fcd412-c274-4d6b-b677-919bd9d7ab29",
     "showTitle": false,
     "title": ""
    }
   },
   "outputs": [
    {
     "output_type": "display_data",
     "data": {
      "text/html": [
       "<div>\n",
       "<style scoped>\n",
       "    .dataframe tbody tr th:only-of-type {\n",
       "        vertical-align: middle;\n",
       "    }\n",
       "\n",
       "    .dataframe tbody tr th {\n",
       "        vertical-align: top;\n",
       "    }\n",
       "\n",
       "    .dataframe thead th {\n",
       "        text-align: right;\n",
       "    }\n",
       "</style>\n",
       "<table border=\"1\" class=\"dataframe\">\n",
       "  <thead>\n",
       "    <tr style=\"text-align: right;\">\n",
       "      <th></th>\n",
       "      <th>bitcoin</th>\n",
       "      <th>ethereum</th>\n",
       "    </tr>\n",
       "  </thead>\n",
       "  <tbody>\n",
       "    <tr>\n",
       "      <th>bitcoin</th>\n",
       "      <td>1.000000</td>\n",
       "      <td>0.491186</td>\n",
       "    </tr>\n",
       "    <tr>\n",
       "      <th>ethereum</th>\n",
       "      <td>0.491186</td>\n",
       "      <td>1.000000</td>\n",
       "    </tr>\n",
       "  </tbody>\n",
       "</table>\n",
       "</div>"
      ]
     },
     "metadata": {
      "application/vnd.databricks.v1+output": {
       "addedWidgets": {},
       "arguments": {},
       "data": "<div>\n<style scoped>\n    .dataframe tbody tr th:only-of-type {\n        vertical-align: middle;\n    }\n\n    .dataframe tbody tr th {\n        vertical-align: top;\n    }\n\n    .dataframe thead th {\n        text-align: right;\n    }\n</style>\n<table border=\"1\" class=\"dataframe\">\n  <thead>\n    <tr style=\"text-align: right;\">\n      <th></th>\n      <th>bitcoin</th>\n      <th>ethereum</th>\n    </tr>\n  </thead>\n  <tbody>\n    <tr>\n      <th>bitcoin</th>\n      <td>1.000000</td>\n      <td>0.491186</td>\n    </tr>\n    <tr>\n      <th>ethereum</th>\n      <td>0.491186</td>\n      <td>1.000000</td>\n    </tr>\n  </tbody>\n</table>\n</div>",
       "datasetInfos": [],
       "metadata": {},
       "removedWidgets": [],
       "textData": null,
       "type": "htmlSandbox"
      }
     },
     "output_type": "display_data"
    }
   ],
   "source": [
    "bitcoin_ethereum_prices = pd.DataFrame({'bitcoin': bitcoin_prices, 'ethereum': ethereum_prices})\n",
    "cormat = bitcoin_ethereum_prices.corr()\n",
    "cormat"
   ]
  },
  {
   "cell_type": "code",
   "execution_count": 0,
   "metadata": {
    "application/vnd.databricks.v1+cell": {
     "cellMetadata": {
      "byteLimit": 2048000,
      "rowLimit": 10000
     },
     "inputWidgets": {},
     "nuid": "7f460da4-f1c8-4d6c-93e2-ba055b633a79",
     "showTitle": false,
     "title": ""
    }
   },
   "outputs": [],
   "source": []
  }
 ],
 "metadata": {
  "application/vnd.databricks.v1+notebook": {
   "dashboards": [],
   "language": "python",
   "notebookMetadata": {
    "pythonIndentUnit": 4
   },
   "notebookName": "Coincap - 3",
   "widgets": {}
  }
 },
 "nbformat": 4,
 "nbformat_minor": 0
}
